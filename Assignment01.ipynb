{
 "cells": [
  {
   "cell_type": "markdown",
   "metadata": {
    "id": "CUdxU51J52Jc"
   },
   "source": [
    "# Topic: print()"
   ]
  },
  {
   "cell_type": "markdown",
   "metadata": {
    "id": "O4XtVMeN52Ji"
   },
   "source": [
    "1) Using the python print function print any string value, integer value, boolean value, float value in single print command."
   ]
  },
  {
   "cell_type": "code",
   "execution_count": 3,
   "metadata": {},
   "outputs": [
    {
     "name": "stdout",
     "output_type": "stream",
     "text": [
      "UMAIMA 4 True 2.5\n"
     ]
    }
   ],
   "source": [
    "print(\"UMAIMA\", 4, True, 2.5)"
   ]
  },
  {
   "cell_type": "markdown",
   "metadata": {
    "id": "iNinlTd052Jr"
   },
   "source": [
    "2) Using the python print function print hyphon(-) separated any string value, integer value, boolean value, float value in single print command."
   ]
  },
  {
   "cell_type": "code",
   "execution_count": 4,
   "metadata": {},
   "outputs": [
    {
     "name": "stdout",
     "output_type": "stream",
     "text": [
      "HELLO-4-True-2.5\n"
     ]
    }
   ],
   "source": [
    "print(\"HELLO\", 4, True, 2.5, sep=\"-\")"
   ]
  },
  {
   "cell_type": "markdown",
   "metadata": {
    "id": "4fNVS99O52Jt"
   },
   "source": [
    "3) Using the python print function print any string value, integer value, boolean value, float value in separate print command.\n",
    "But every value must be space separated and in single line."
   ]
  },
  {
   "cell_type": "code",
   "execution_count": 24,
   "metadata": {},
   "outputs": [
    {
     "name": "stdout",
     "output_type": "stream",
     "text": [
      "HELLO 4 True 2.5\n"
     ]
    }
   ],
   "source": [
    "print(\"HELLO\", end=\" \")\n",
    "print(4, end=\" \")\n",
    "print(True, end=\" \")\n",
    "print(2.5)"
   ]
  },
  {
   "cell_type": "markdown",
   "metadata": {
    "id": "akEUFstT52Jv"
   },
   "source": [
    "4) Can a python print function take no value to print???"
   ]
  },
  {
   "cell_type": "code",
   "execution_count": 8,
   "metadata": {},
   "outputs": [
    {
     "name": "stdout",
     "output_type": "stream",
     "text": [
      "This is a line of text.\n",
      "\n",
      "This is another line after a blank line.\n"
     ]
    }
   ],
   "source": [
    "#Yes, the Python print() function can be used without any value, and in that case, it simply prints a blank line.\n",
    "print(\"This is a line of text.\")\n",
    "print()  # This prints a blank line\n",
    "print(\"This is another line after a blank line.\")"
   ]
  },
  {
   "cell_type": "markdown",
   "metadata": {
    "id": "vFPOFKW_52Jx"
   },
   "source": [
    "# TOPIC :Variables in Python Operators"
   ]
  },
  {
   "cell_type": "markdown",
   "metadata": {
    "id": "AzBzVODl52Jy"
   },
   "source": [
    "5) One of my friends name is Mr. Ahmed. He is 30 years old.  He is a lawer by profession. He has done his bachelors in law in the year 2005. He is working with a reputable law firm 'The Himalya Associates' in Karachi since 2015. He is a handsome lawer with height of 5.10 feets and weight 70600g. His monthly income is Rs. 200k PKR.\n",
    "Note: Create variables from above text and also assign values from the text.  "
   ]
  },
  {
   "cell_type": "code",
   "execution_count": 9,
   "metadata": {},
   "outputs": [],
   "source": [
    "name = \"Mr. Ahmed\"\n",
    "age = 30\n",
    "profession = \"Lawyer\"\n",
    "degree = \"Bachelors in Law\"\n",
    "passout_year = 2005\n",
    "law_firm = \"The Himalya Associates\"\n",
    "city = \"Karachi\"\n",
    "working_since = 2015\n",
    "height_feet = 5.10\n",
    "weight_grams = 70600\n",
    "monthly_income_pkr = 200000"
   ]
  },
  {
   "cell_type": "markdown",
   "metadata": {
    "id": "Uaf--v5S52J0"
   },
   "source": [
    "6) How many years has been to Mr. Ahmed after his bachelors degree? Create a variable that hold current year value and then subtract it from his passout year."
   ]
  },
  {
   "cell_type": "code",
   "execution_count": 10,
   "metadata": {},
   "outputs": [
    {
     "name": "stdout",
     "output_type": "stream",
     "text": [
      "Years since graduation: 20\n"
     ]
    }
   ],
   "source": [
    "current_year = 2025\n",
    "years_since_graduation = current_year - passout_year\n",
    "print(\"Years since graduation:\", years_since_graduation)"
   ]
  },
  {
   "cell_type": "markdown",
   "metadata": {
    "id": "SAQtVyvD52J1"
   },
   "source": [
    "7) How many years has Mr. Ahmed been working with law firm 'The Himalya Associates'. Create necesary variables and print the correct number of years in working in the firm."
   ]
  },
  {
   "cell_type": "code",
   "execution_count": 25,
   "metadata": {},
   "outputs": [
    {
     "name": "stdout",
     "output_type": "stream",
     "text": [
      "Years working in the firm: 10\n"
     ]
    }
   ],
   "source": [
    "current_year = 2025\n",
    "years_in_firm = current_year - working_since\n",
    "print(\"Years working in the firm:\", years_in_firm)"
   ]
  },
  {
   "cell_type": "markdown",
   "metadata": {
    "id": "Gnk1kIUj52J3"
   },
   "source": [
    "8) Convert the monthly income of Mr. Ahmed in dollars.  Create necesary variables and print the income in dollars."
   ]
  },
  {
   "cell_type": "code",
   "execution_count": 13,
   "metadata": {},
   "outputs": [
    {
     "name": "stdout",
     "output_type": "stream",
     "text": [
      "Monthly income in USD: 705.7661091114405\n"
     ]
    }
   ],
   "source": [
    "monthly_income_pkr = 200000\n",
    "usd_rate = 283.38\n",
    "monthly_income_usd = monthly_income_pkr / usd_rate\n",
    "print(\"Monthly income in USD:\", monthly_income_usd)"
   ]
  },
  {
   "cell_type": "markdown",
   "metadata": {
    "id": "Adx4oblF52J4"
   },
   "source": [
    "9) Check if the income in dollars is a float or integer value. if it is float, re-write the code so that income gets converted in integer. print the income in integer type value."
   ]
  },
  {
   "cell_type": "code",
   "execution_count": 18,
   "metadata": {},
   "outputs": [
    {
     "name": "stdout",
     "output_type": "stream",
     "text": [
      "Monthly income in USD: 705.7661091114405\n",
      "Data type: <class 'float'>\n",
      "Monthly income in USD (integer): 705\n",
      "Data type: <class 'int'>\n"
     ]
    }
   ],
   "source": [
    "monthly_income_pkr = 200000\n",
    "usd_rate = 283.38\n",
    "monthly_income_usd = monthly_income_pkr / usd_rate\n",
    "print(\"Monthly income in USD:\", monthly_income_usd)\n",
    "# Check the type\n",
    "print(\"Data type:\", type(monthly_income_usd))\n",
    "# Convert to integer\n",
    "monthly_income_usd_int = int(monthly_income_usd)\n",
    "print(\"Monthly income in USD (integer):\", monthly_income_usd_int)\n",
    "# Check the type\n",
    "print(\"Data type:\", type(monthly_income_usd_int))"
   ]
  },
  {
   "cell_type": "markdown",
   "metadata": {},
   "source": [
    "10) Print the type of Mr. Ahmed's weight. Convert the weight of Mr. Ahmed in kg so that weight must be a integer value."
   ]
  },
  {
   "cell_type": "code",
   "execution_count": 27,
   "metadata": {
    "id": "X3ncSwJt52KA"
   },
   "outputs": [
    {
     "name": "stdout",
     "output_type": "stream",
     "text": [
      "Data type of weight_grams: <class 'int'>\n",
      "Weight in kilograms: 70\n",
      "Data type of weight_kg: <class 'int'>\n"
     ]
    }
   ],
   "source": [
    "# Weight in grams\n",
    "weight_grams = 70600\n",
    "# check the type\n",
    "print(\"Data type of weight_grams:\", type(weight_grams))\n",
    "# Convert to kilograms and ensure it's an integer\n",
    "weight_kg = int(weight_grams / 1000)\n",
    "print(\"Weight in kilograms:\", weight_kg)\n",
    "# check the type\n",
    "print(\"Data type of weight_kg:\", type(weight_kg))"
   ]
  },
  {
   "cell_type": "markdown",
   "metadata": {},
   "source": [
    "11) print the year of birth of Mr. Ahmed."
   ]
  },
  {
   "cell_type": "code",
   "execution_count": 20,
   "metadata": {},
   "outputs": [
    {
     "name": "stdout",
     "output_type": "stream",
     "text": [
      "Year of birth: 1995\n"
     ]
    }
   ],
   "source": [
    "current_year = 2025\n",
    "age = 30\n",
    "year_of_birth = current_year - age\n",
    "print(\"Year of birth:\", year_of_birth)"
   ]
  },
  {
   "cell_type": "markdown",
   "metadata": {},
   "source": [
    "12) Can Rs. 100 be divided equally among 6 students?\n",
    "HINT: % operator (modulo)"
   ]
  },
  {
   "cell_type": "code",
   "execution_count": 21,
   "metadata": {},
   "outputs": [
    {
     "name": "stdout",
     "output_type": "stream",
     "text": [
      "Can be equally divided? False\n",
      "Remainder: 4\n"
     ]
    }
   ],
   "source": [
    "total_money = 100\n",
    "students = 6\n",
    "remainder = total_money % students\n",
    "print(\"Can be equally divided?\", remainder == 0)\n",
    "print(\"Remainder:\", remainder)"
   ]
  },
  {
   "cell_type": "code",
   "execution_count": null,
   "metadata": {},
   "outputs": [],
   "source": []
  },
  {
   "cell_type": "code",
   "execution_count": null,
   "metadata": {},
   "outputs": [],
   "source": []
  }
 ],
 "metadata": {
  "colab": {
   "provenance": []
  },
  "kernelspec": {
   "display_name": "Python 3 (ipykernel)",
   "language": "python",
   "name": "python3"
  },
  "language_info": {
   "codemirror_mode": {
    "name": "ipython",
    "version": 3
   },
   "file_extension": ".py",
   "mimetype": "text/x-python",
   "name": "python",
   "nbconvert_exporter": "python",
   "pygments_lexer": "ipython3",
   "version": "3.13.5"
  }
 },
 "nbformat": 4,
 "nbformat_minor": 4
}
